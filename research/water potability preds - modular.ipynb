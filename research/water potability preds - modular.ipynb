{
 "cells": [
  {
   "cell_type": "code",
   "execution_count": 1,
   "id": "20e57b7c",
   "metadata": {},
   "outputs": [],
   "source": [
    "import pandas as pd\n",
    "import numpy as np"
   ]
  },
  {
   "cell_type": "code",
   "execution_count": 2,
   "id": "b6917047",
   "metadata": {},
   "outputs": [
    {
     "data": {
      "text/html": [
       "<div>\n",
       "<style scoped>\n",
       "    .dataframe tbody tr th:only-of-type {\n",
       "        vertical-align: middle;\n",
       "    }\n",
       "\n",
       "    .dataframe tbody tr th {\n",
       "        vertical-align: top;\n",
       "    }\n",
       "\n",
       "    .dataframe thead th {\n",
       "        text-align: right;\n",
       "    }\n",
       "</style>\n",
       "<table border=\"1\" class=\"dataframe\">\n",
       "  <thead>\n",
       "    <tr style=\"text-align: right;\">\n",
       "      <th></th>\n",
       "      <th>ph</th>\n",
       "      <th>Hardness</th>\n",
       "      <th>Solids</th>\n",
       "      <th>Chloramines</th>\n",
       "      <th>Sulfate</th>\n",
       "      <th>Conductivity</th>\n",
       "      <th>Organic_carbon</th>\n",
       "      <th>Trihalomethanes</th>\n",
       "      <th>Turbidity</th>\n",
       "      <th>Potability</th>\n",
       "    </tr>\n",
       "  </thead>\n",
       "  <tbody>\n",
       "    <tr>\n",
       "      <th>3204</th>\n",
       "      <td>8.077261</td>\n",
       "      <td>125.302719</td>\n",
       "      <td>23931.282833</td>\n",
       "      <td>8.773162</td>\n",
       "      <td>317.693331</td>\n",
       "      <td>398.328789</td>\n",
       "      <td>15.279583</td>\n",
       "      <td>62.668356</td>\n",
       "      <td>4.279871</td>\n",
       "      <td>1</td>\n",
       "    </tr>\n",
       "    <tr>\n",
       "      <th>813</th>\n",
       "      <td>6.435723</td>\n",
       "      <td>214.724669</td>\n",
       "      <td>9363.853988</td>\n",
       "      <td>9.997624</td>\n",
       "      <td>273.463139</td>\n",
       "      <td>508.345207</td>\n",
       "      <td>12.925870</td>\n",
       "      <td>71.428590</td>\n",
       "      <td>4.925339</td>\n",
       "      <td>1</td>\n",
       "    </tr>\n",
       "    <tr>\n",
       "      <th>17</th>\n",
       "      <td>9.181560</td>\n",
       "      <td>273.813807</td>\n",
       "      <td>24041.326280</td>\n",
       "      <td>6.904990</td>\n",
       "      <td>398.350517</td>\n",
       "      <td>477.974642</td>\n",
       "      <td>13.387341</td>\n",
       "      <td>71.457362</td>\n",
       "      <td>4.503661</td>\n",
       "      <td>0</td>\n",
       "    </tr>\n",
       "    <tr>\n",
       "      <th>825</th>\n",
       "      <td>6.839416</td>\n",
       "      <td>166.866970</td>\n",
       "      <td>28508.637800</td>\n",
       "      <td>7.238829</td>\n",
       "      <td>NaN</td>\n",
       "      <td>460.765994</td>\n",
       "      <td>11.378738</td>\n",
       "      <td>73.465133</td>\n",
       "      <td>2.854527</td>\n",
       "      <td>0</td>\n",
       "    </tr>\n",
       "    <tr>\n",
       "      <th>246</th>\n",
       "      <td>4.705356</td>\n",
       "      <td>103.173587</td>\n",
       "      <td>19555.765052</td>\n",
       "      <td>6.767298</td>\n",
       "      <td>NaN</td>\n",
       "      <td>370.178166</td>\n",
       "      <td>9.182834</td>\n",
       "      <td>93.900486</td>\n",
       "      <td>3.437450</td>\n",
       "      <td>0</td>\n",
       "    </tr>\n",
       "  </tbody>\n",
       "</table>\n",
       "</div>"
      ],
      "text/plain": [
       "            ph    Hardness        Solids  Chloramines     Sulfate  \\\n",
       "3204  8.077261  125.302719  23931.282833     8.773162  317.693331   \n",
       "813   6.435723  214.724669   9363.853988     9.997624  273.463139   \n",
       "17    9.181560  273.813807  24041.326280     6.904990  398.350517   \n",
       "825   6.839416  166.866970  28508.637800     7.238829         NaN   \n",
       "246   4.705356  103.173587  19555.765052     6.767298         NaN   \n",
       "\n",
       "      Conductivity  Organic_carbon  Trihalomethanes  Turbidity  Potability  \n",
       "3204    398.328789       15.279583        62.668356   4.279871           1  \n",
       "813     508.345207       12.925870        71.428590   4.925339           1  \n",
       "17      477.974642       13.387341        71.457362   4.503661           0  \n",
       "825     460.765994       11.378738        73.465133   2.854527           0  \n",
       "246     370.178166        9.182834        93.900486   3.437450           0  "
      ]
     },
     "execution_count": 2,
     "metadata": {},
     "output_type": "execute_result"
    }
   ],
   "source": [
    "df = pd.read_csv(\"C:/Users/UTENTE/Git Repos/water_potability.csv\")\n",
    "df.sample(5)"
   ]
  },
  {
   "cell_type": "markdown",
   "id": "4c1b1986",
   "metadata": {},
   "source": [
    "## Check Null Values"
   ]
  },
  {
   "cell_type": "code",
   "execution_count": 5,
   "id": "55799420",
   "metadata": {},
   "outputs": [
    {
     "data": {
      "text/plain": [
       "ph                 491\n",
       "Hardness             0\n",
       "Solids               0\n",
       "Chloramines          0\n",
       "Sulfate            781\n",
       "Conductivity         0\n",
       "Organic_carbon       0\n",
       "Trihalomethanes    162\n",
       "Turbidity            0\n",
       "Potability           0\n",
       "dtype: int64"
      ]
     },
     "execution_count": 5,
     "metadata": {},
     "output_type": "execute_result"
    }
   ],
   "source": [
    "df.isna().sum()"
   ]
  },
  {
   "cell_type": "markdown",
   "id": "e0caf5f3",
   "metadata": {},
   "source": [
    "## Splitting The Dataset Into The Training Set And Test Set"
   ]
  },
  {
   "cell_type": "code",
   "execution_count": 13,
   "id": "e7052d75",
   "metadata": {},
   "outputs": [],
   "source": [
    "from sklearn.model_selection import train_test_split\n",
    "train_df, test_df = train_test_split(df, test_size=.20, random_state=42)"
   ]
  },
  {
   "cell_type": "code",
   "execution_count": 14,
   "id": "f87f3105",
   "metadata": {},
   "outputs": [],
   "source": [
    "def fill_missing_values_with_median(df_original):\n",
    "    df = df_original.copy()\n",
    "    for column in df.columns:\n",
    "        if df[column].isna().any():\n",
    "            median_value = df[column].median()\n",
    "            df[column].fillna(median_value, inplace=True)\n",
    "\n",
    "    return df"
   ]
  },
  {
   "cell_type": "code",
   "execution_count": 20,
   "id": "8df0d348",
   "metadata": {},
   "outputs": [],
   "source": [
    "# Fill missing values with median\n",
    "train_processed_df = fill_missing_values_with_median(train_df)\n",
    "test_processed_df = fill_missing_values_with_median(test_df)"
   ]
  },
  {
   "cell_type": "code",
   "execution_count": 37,
   "id": "bf8c3b25",
   "metadata": {},
   "outputs": [],
   "source": [
    "X_train = train_processed_df.iloc[:, :-1].values\n",
    "y_train = train_processed_df.iloc[:, -1].values\n",
    "\n",
    "X_test = test_processed_df.iloc[:, :-1].values\n",
    "y_test = test_processed_df.iloc[:, -1].values"
   ]
  },
  {
   "cell_type": "code",
   "execution_count": 43,
   "id": "caedb684",
   "metadata": {},
   "outputs": [],
   "source": [
    "from sklearn.ensemble import RandomForestClassifier\n",
    "import pickle\n",
    "\n",
    "n_estimators = 200\n",
    "clf = RandomForestClassifier(n_estimators=n_estimators)\n",
    "\n",
    "clf.fit(X_train, y_train)\n",
    "\n",
    "# save\n",
    "with open(\"model.pkl\", \"wb\") as f:\n",
    "    pickle.dump(clf, f)\n",
    "\n"
   ]
  },
  {
   "cell_type": "code",
   "execution_count": null,
   "id": "af9a12fb",
   "metadata": {},
   "outputs": [
    {
     "name": "stdout",
     "output_type": "stream",
     "text": [
      "acc 0.6814024390243902\n",
      "precision 0.6277372262773723\n",
      "recall 0.3524590163934426\n",
      "f1-score 0.4514435695538058\n"
     ]
    }
   ],
   "source": [
    "from sklearn.metrics import accuracy_score,precision_score,recall_score,f1_score\n",
    "\n",
    "with open('model.pkl', 'rb') as f:\n",
    "    model = pickle.load(f)\n",
    "\n",
    "y_pred = model.predict(X_test)\n",
    "\n",
    "acc = accuracy_score(y_test,y_pred)\n",
    "precision = precision_score(y_test,y_pred)\n",
    "recall = recall_score(y_test,y_pred)\n",
    "f1 = f1_score(y_test,y_pred)\n",
    "\n",
    "print(\"acc\", acc)\n",
    "print(\"precision\", precision)\n",
    "print(\"recall\", recall)\n",
    "print(\"f1-score\", f1)"
   ]
  }
 ],
 "metadata": {
  "kernelspec": {
   "display_name": "water_venv",
   "language": "python",
   "name": "water_venv"
  },
  "language_info": {
   "codemirror_mode": {
    "name": "ipython",
    "version": 3
   },
   "file_extension": ".py",
   "mimetype": "text/x-python",
   "name": "python",
   "nbconvert_exporter": "python",
   "pygments_lexer": "ipython3",
   "version": "3.10.0"
  }
 },
 "nbformat": 4,
 "nbformat_minor": 5
}
