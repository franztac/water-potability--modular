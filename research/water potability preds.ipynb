{
 "cells": [
  {
   "cell_type": "code",
   "execution_count": 1,
   "id": "20e57b7c",
   "metadata": {},
   "outputs": [],
   "source": [
    "import pandas as pd\n",
    "import numpy as np"
   ]
  },
  {
   "cell_type": "code",
   "execution_count": 3,
   "id": "b6917047",
   "metadata": {},
   "outputs": [
    {
     "data": {
      "text/html": [
       "<div>\n",
       "<style scoped>\n",
       "    .dataframe tbody tr th:only-of-type {\n",
       "        vertical-align: middle;\n",
       "    }\n",
       "\n",
       "    .dataframe tbody tr th {\n",
       "        vertical-align: top;\n",
       "    }\n",
       "\n",
       "    .dataframe thead th {\n",
       "        text-align: right;\n",
       "    }\n",
       "</style>\n",
       "<table border=\"1\" class=\"dataframe\">\n",
       "  <thead>\n",
       "    <tr style=\"text-align: right;\">\n",
       "      <th></th>\n",
       "      <th>ph</th>\n",
       "      <th>Hardness</th>\n",
       "      <th>Solids</th>\n",
       "      <th>Chloramines</th>\n",
       "      <th>Sulfate</th>\n",
       "      <th>Conductivity</th>\n",
       "      <th>Organic_carbon</th>\n",
       "      <th>Trihalomethanes</th>\n",
       "      <th>Turbidity</th>\n",
       "      <th>Potability</th>\n",
       "    </tr>\n",
       "  </thead>\n",
       "  <tbody>\n",
       "    <tr>\n",
       "      <th>1199</th>\n",
       "      <td>6.875746</td>\n",
       "      <td>192.023659</td>\n",
       "      <td>25422.338548</td>\n",
       "      <td>7.571360</td>\n",
       "      <td>NaN</td>\n",
       "      <td>501.605982</td>\n",
       "      <td>10.785965</td>\n",
       "      <td>68.294617</td>\n",
       "      <td>3.397303</td>\n",
       "      <td>1</td>\n",
       "    </tr>\n",
       "    <tr>\n",
       "      <th>2888</th>\n",
       "      <td>8.618654</td>\n",
       "      <td>257.595883</td>\n",
       "      <td>11595.354985</td>\n",
       "      <td>6.399933</td>\n",
       "      <td>NaN</td>\n",
       "      <td>343.740007</td>\n",
       "      <td>15.331166</td>\n",
       "      <td>75.687401</td>\n",
       "      <td>4.141342</td>\n",
       "      <td>0</td>\n",
       "    </tr>\n",
       "    <tr>\n",
       "      <th>2933</th>\n",
       "      <td>NaN</td>\n",
       "      <td>200.661925</td>\n",
       "      <td>29513.804860</td>\n",
       "      <td>7.966300</td>\n",
       "      <td>347.541419</td>\n",
       "      <td>476.201585</td>\n",
       "      <td>19.950054</td>\n",
       "      <td>NaN</td>\n",
       "      <td>3.027946</td>\n",
       "      <td>0</td>\n",
       "    </tr>\n",
       "    <tr>\n",
       "      <th>158</th>\n",
       "      <td>8.461331</td>\n",
       "      <td>212.581366</td>\n",
       "      <td>34406.776446</td>\n",
       "      <td>8.679152</td>\n",
       "      <td>384.855382</td>\n",
       "      <td>477.343369</td>\n",
       "      <td>13.801712</td>\n",
       "      <td>NaN</td>\n",
       "      <td>3.771944</td>\n",
       "      <td>0</td>\n",
       "    </tr>\n",
       "    <tr>\n",
       "      <th>1685</th>\n",
       "      <td>6.920389</td>\n",
       "      <td>252.352799</td>\n",
       "      <td>11086.259858</td>\n",
       "      <td>9.993376</td>\n",
       "      <td>285.744758</td>\n",
       "      <td>368.629147</td>\n",
       "      <td>17.120803</td>\n",
       "      <td>43.667082</td>\n",
       "      <td>3.277601</td>\n",
       "      <td>0</td>\n",
       "    </tr>\n",
       "  </tbody>\n",
       "</table>\n",
       "</div>"
      ],
      "text/plain": [
       "            ph    Hardness        Solids  Chloramines     Sulfate  \\\n",
       "1199  6.875746  192.023659  25422.338548     7.571360         NaN   \n",
       "2888  8.618654  257.595883  11595.354985     6.399933         NaN   \n",
       "2933       NaN  200.661925  29513.804860     7.966300  347.541419   \n",
       "158   8.461331  212.581366  34406.776446     8.679152  384.855382   \n",
       "1685  6.920389  252.352799  11086.259858     9.993376  285.744758   \n",
       "\n",
       "      Conductivity  Organic_carbon  Trihalomethanes  Turbidity  Potability  \n",
       "1199    501.605982       10.785965        68.294617   3.397303           1  \n",
       "2888    343.740007       15.331166        75.687401   4.141342           0  \n",
       "2933    476.201585       19.950054              NaN   3.027946           0  \n",
       "158     477.343369       13.801712              NaN   3.771944           0  \n",
       "1685    368.629147       17.120803        43.667082   3.277601           0  "
      ]
     },
     "execution_count": 3,
     "metadata": {},
     "output_type": "execute_result"
    }
   ],
   "source": [
    "df = pd.read_csv(\"C:/Users/UTENTE/Git Repos/water_potability.csv\")\n",
    "df.sample(5)"
   ]
  },
  {
   "cell_type": "markdown",
   "id": "4c1b1986",
   "metadata": {},
   "source": [
    "## Check Null Values"
   ]
  },
  {
   "cell_type": "code",
   "execution_count": 3,
   "id": "55799420",
   "metadata": {},
   "outputs": [
    {
     "data": {
      "text/plain": [
       "ph                 491\n",
       "Hardness             0\n",
       "Solids               0\n",
       "Chloramines          0\n",
       "Sulfate            781\n",
       "Conductivity         0\n",
       "Organic_carbon       0\n",
       "Trihalomethanes    162\n",
       "Turbidity            0\n",
       "Potability           0\n",
       "dtype: int64"
      ]
     },
     "execution_count": 3,
     "metadata": {},
     "output_type": "execute_result"
    }
   ],
   "source": [
    "df.isna().sum()"
   ]
  },
  {
   "cell_type": "markdown",
   "id": "e0caf5f3",
   "metadata": {},
   "source": [
    "## Splitting The Dataset Into The Training Set And Test Set"
   ]
  },
  {
   "cell_type": "code",
   "execution_count": 13,
   "id": "e7052d75",
   "metadata": {},
   "outputs": [],
   "source": [
    "from sklearn.model_selection import train_test_split\n",
    "train_df, test_df = train_test_split(df, test_size=.20, random_state=42)"
   ]
  },
  {
   "cell_type": "code",
   "execution_count": 14,
   "id": "f87f3105",
   "metadata": {},
   "outputs": [],
   "source": [
    "def fill_missing_values_with_median(df_original):\n",
    "    df = df_original.copy()\n",
    "    for column in df.columns:\n",
    "        if df[column].isna().any():\n",
    "            median_value = df[column].median()\n",
    "            df[column].fillna(median_value, inplace=True)\n",
    "\n",
    "    return df"
   ]
  },
  {
   "cell_type": "code",
   "execution_count": 20,
   "id": "8df0d348",
   "metadata": {},
   "outputs": [],
   "source": [
    "# Fill missing values with median\n",
    "train_processed_df = fill_missing_values_with_median(train_df)\n",
    "test_processed_df = fill_missing_values_with_median(test_df)"
   ]
  },
  {
   "cell_type": "code",
   "execution_count": 37,
   "id": "bf8c3b25",
   "metadata": {},
   "outputs": [],
   "source": [
    "X_train = train_processed_df.iloc[:, :-1].values\n",
    "y_train = train_processed_df.iloc[:, -1].values\n",
    "\n",
    "X_test = test_processed_df.iloc[:, :-1].values\n",
    "y_test = test_processed_df.iloc[:, -1].values"
   ]
  },
  {
   "cell_type": "code",
   "execution_count": 43,
   "id": "caedb684",
   "metadata": {},
   "outputs": [],
   "source": [
    "from sklearn.ensemble import RandomForestClassifier\n",
    "import pickle\n",
    "\n",
    "n_estimators = 200\n",
    "clf = RandomForestClassifier(n_estimators=n_estimators)\n",
    "\n",
    "clf.fit(X_train, y_train)\n",
    "\n",
    "# save\n",
    "with open(\"model.pkl\", \"wb\") as f:\n",
    "    pickle.dump(clf, f)\n",
    "\n"
   ]
  },
  {
   "cell_type": "code",
   "execution_count": null,
   "id": "af9a12fb",
   "metadata": {},
   "outputs": [
    {
     "name": "stdout",
     "output_type": "stream",
     "text": [
      "acc 0.6814024390243902\n",
      "precision 0.6277372262773723\n",
      "recall 0.3524590163934426\n",
      "f1-score 0.4514435695538058\n"
     ]
    }
   ],
   "source": [
    "from sklearn.metrics import accuracy_score,precision_score,recall_score,f1_score\n",
    "\n",
    "with open('model.pkl', 'rb') as f:\n",
    "    model = pickle.load(f)\n",
    "\n",
    "y_pred = model.predict(X_test)\n",
    "\n",
    "acc = accuracy_score(y_test,y_pred)\n",
    "precision = precision_score(y_test,y_pred)\n",
    "recall = recall_score(y_test,y_pred)\n",
    "f1 = f1_score(y_test,y_pred)\n",
    "\n",
    "print(\"acc\", acc)\n",
    "print(\"precision\", precision)\n",
    "print(\"recall\", recall)\n",
    "print(\"f1-score\", f1)"
   ]
  }
 ],
 "metadata": {
  "kernelspec": {
   "display_name": "water_venv",
   "language": "python",
   "name": "water_venv"
  },
  "language_info": {
   "codemirror_mode": {
    "name": "ipython",
    "version": 3
   },
   "file_extension": ".py",
   "mimetype": "text/x-python",
   "name": "python",
   "nbconvert_exporter": "python",
   "pygments_lexer": "ipython3",
   "version": "3.10.0"
  }
 },
 "nbformat": 4,
 "nbformat_minor": 5
}
